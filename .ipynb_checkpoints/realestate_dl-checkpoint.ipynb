{
 "cells": [
  {
   "cell_type": "markdown",
   "metadata": {
    "_cell_guid": "3d199f17-1e45-4570-bf38-33dfcb6ad403",
    "_execution_state": "idle",
    "_uuid": "e0d595e3e7b3574d5a888839255398526fdc6051",
    "collapsed": false,
    "deletable": true,
    "editable": true
   },
   "source": [
    "# A Deep Learning Approach to Real Estate\n",
    "\n",
    "## Background\n",
    "This notebook will take the classic Kaggle Real Estate problem and apply a deep learning approach using modern techniques including dropout, batch normalisation and mini-batch training.\n",
    "\n",
    "## Shoutouts\n",
    "Full credit for this technique goes to Andrew Beam and Max Berggren for their post that inspired this kernel (below). \n",
    "http://maxberggren.se/2017/06/18/deep-learning-vs-xgboost/ \n",
    "\n",
    "https://www.valentinmihov.com/2015/04/17/adult-income-data-set/\n",
    "\n",
    "## To Do\n",
    "1. Impute missing continuous data\n",
    "1. Do some feature engineering << Done >>\n",
    "2. Encode labels or dummy vars?  << Done - Binary encode them (https://github.com/scikit-learn-contrib/categorical-encoding) >> \n",
    "2. Tensorboard (we need to instrument this network to understand if it is converging?) << 50% >>\n",
    "3. Is there a process of data augmentation that can be used to make the model generalise better?\n",
    "- Hyper parameter optimisation in keras  (http://machinelearningmastery.com/grid-search-hyperparameters-deep-learning-models-python-keras/, https://github.com/maxpumperla/hyperas)\n",
    "- Ensembling in keras (look at this file in the dir keras-ensemble.py)\n",
    "\n"
   ]
  },
  {
   "cell_type": "code",
   "execution_count": 324,
   "metadata": {
    "_cell_guid": "0fce2061-50ec-4eff-b409-56b2d796496a",
    "_execution_state": "idle",
    "_uuid": "5fe42c3ccaf08c3d8f349ec92a28b703665b02d3",
    "collapsed": false,
    "deletable": true,
    "editable": true
   },
   "outputs": [],
   "source": [
    "import numpy as np # linear algebra\n",
    "import pandas as pd # data processing, CSV file I/O (e.g. pd.read_csv)\n",
    "\n",
    "# Input data files are available in the \"../input/\" directory.\n",
    "# For example, running this (by clicking run or pressing Shift+Enter) will list the files in the input directory\n",
    "\n",
    "#from subprocess import check_output\n",
    "#print(check_output([\"ls\", \"../input\"]).decode(\"utf8\"))\n",
    "\n",
    "# Any results you write to the current directory are saved as output."
   ]
  },
  {
   "cell_type": "code",
   "execution_count": 325,
   "metadata": {
    "_cell_guid": "8a58f6a0-62a1-42db-891c-0ad0c82fa794",
    "_execution_state": "idle",
    "_uuid": "6ed4f88d954b1a6d1b8a970e0b791bb308b5b96a",
    "collapsed": false,
    "deletable": true,
    "editable": true
   },
   "outputs": [],
   "source": [
    "%matplotlib inline\n",
    "import matplotlib.pyplot as plt\n",
    "plt.style.use('ggplot')\n",
    "\n",
    "seed = 123456\n",
    "np.random.seed(seed)"
   ]
  },
  {
   "cell_type": "code",
   "execution_count": 326,
   "metadata": {
    "_cell_guid": "bbc685a4-d03b-44b0-869b-75aeebfbd050",
    "_execution_state": "idle",
    "_uuid": "87e987b4b0a44b2bb83d53a02eb8254933624aa7",
    "collapsed": false,
    "deletable": true,
    "editable": true
   },
   "outputs": [
    {
     "name": "stdout",
     "output_type": "stream",
     "text": [
      "Done\n"
     ]
    }
   ],
   "source": [
    "target_variable = 'saleprice'\n",
    "df = (\n",
    "    pd.read_csv('input/train.csv') # change this to run on kaggle\n",
    "    #pd.read_csv('../input/train.csv')\n",
    "\n",
    "    # Rename columns to lowercase and underscores\n",
    "    .pipe(lambda d: d.rename(columns={\n",
    "        k: v for k, v in zip(\n",
    "            d.columns,\n",
    "            [c.lower().replace(' ', '_') for c in d.columns]\n",
    "        )\n",
    "    }))\n",
    "    # Switch categorical classes to integers\n",
    "    #.assign(**{target_variable: lambda r: r[target_variable].astype('category').cat.codes})\n",
    ")\n",
    "print('Done')"
   ]
  },
  {
   "cell_type": "code",
   "execution_count": 327,
   "metadata": {
    "collapsed": false
   },
   "outputs": [
    {
     "data": {
      "text/plain": [
       "0    3\n",
       "1    3\n",
       "2    3\n",
       "3    3\n",
       "4    4\n",
       "Name: bedroomabvgr, dtype: int64"
      ]
     },
     "execution_count": 327,
     "metadata": {},
     "output_type": "execute_result"
    }
   ],
   "source": [
    "df['bedroomabvgr'].head()"
   ]
  },
  {
   "cell_type": "code",
   "execution_count": 328,
   "metadata": {
    "collapsed": false
   },
   "outputs": [],
   "source": [
    "# Categorical / Ordinal\n",
    "# using binary coding according to this artical \n",
    "# to encode categoricals \n",
    "# http://www.kdnuggets.com/2015/12/beyond-one-hot-exploration-categorical-variables.html\n",
    "# class 4 = x0100 = 0 | 1 | 0 | 0 in columns\n",
    "# use this encoder https://github.com/scikit-learn-contrib/categorical-encoding\n",
    "categorical_vars = ['MSZoning'\n",
    "                    ,'Street'\n",
    "                    ,'Alley'\n",
    "                    ,'LotShape'\n",
    "                    ,'LandContour'\n",
    "                    ,'Utilities'\n",
    "                    ,'LotConfig'\n",
    "                    ,'LandSlope'\n",
    "                    ,'Neighborhood'\n",
    "                    ,'Condition1'\n",
    "                    ,'Condition2'\n",
    "                    ,'BldgType'\n",
    "                    ,'HouseStyle'\n",
    "                    ,'RoofStyle'\n",
    "                    ,'RoofMatl'\n",
    "                    ,'Exterior1st'\n",
    "                    ,'Exterior2nd'\n",
    "                    ,'MasVnrType'\n",
    "                    ,'ExterQual'\n",
    "                    ,'ExterCond'\n",
    "                    ,'Foundation'\n",
    "                    ,'BsmtQual'\n",
    "                    ,'BsmtCond'\n",
    "                    ,'BsmtExposure'\n",
    "                    ,'BsmtFinType1'\n",
    "                    ,'BsmtFinSF1'\n",
    "                    ,'BsmtFinType2'\n",
    "                    ,'Heating'\n",
    "                    ,'HeatingQC'\n",
    "                    ,'CentralAir'\n",
    "                    ,'Electrical'\n",
    "                    ,'KitchenQual'\n",
    "                    ,'Functional'\n",
    "                    ,'FireplaceQu'\n",
    "                    ,'GarageType'\n",
    "                    ,'GarageFinish'\n",
    "                    ,'GarageQual'\n",
    "                    ,'GarageCond'\n",
    "                    ,'PavedDrive'\n",
    "                    ,'PoolQC'\n",
    "                    ,'Fence'\n",
    "                    ,'MiscFeature'\n",
    "                    ,'SaleType'\n",
    "                    ,'SaleCondition'\n",
    "]\n",
    "\n",
    "# Nominal:\n",
    "# Could try binary encoding these too\n",
    "nominal_vars = ['OverallQual'\n",
    "                ,'OverallCond'\n",
    "                ,'YearBuilt'\n",
    "                ,'YearRemodAdd'\n",
    "                ,'BsmtFullBath'\n",
    "                ,'BsmtHalfBath'\n",
    "                ,'FullBath'\n",
    "                ,'HalfBath'\n",
    "                ,'Bedroomabvgr'\n",
    "                ,'KitchenAbvGr'\n",
    "                ,'TotRmsAbvGrd'\n",
    "                ,'Fireplaces'\n",
    "                ,'GarageYrBlt'\n",
    "                ,'GarageCars'\n",
    "                ,'MoSold'\n",
    "                ,'YrSold'\n",
    "                ,'MSSubClass'\n",
    "                ]\n",
    "\n",
    "bin_enc = categorical_vars + nominal_vars\n",
    "# make the list lowercase\n",
    "bin_enc = [x.lower() for x in bin_enc]\n",
    "\n",
    "\n",
    "# Continuous \n",
    "# Anything not mentioned above\n",
    "\n",
    "\n",
    "\n",
    "# Feature engineering\n",
    "# (1stFlrSF + 2ndFlrSF) / number levels # avg level size\n",
    "# 2ndFlrSF / 1stFlrSF  # how big is 1st floor compared to 2nd floor\n",
    "# LotArea / LotFrontage # lot shape and ratio\n",
    "# TotalBsmtSF / GrLivArea # basement size compared to living space\n",
    "# LowQualFinSF / GrLivArea # ratio of Low quality finished to total\n",
    "# FullBath / GrLivArea # bathrooms per living space\n",
    "# HalfBath / GrLivArea # half bathrooms per living space\n",
    "# Bedroom / GrLivArea # bedroom per living space\n",
    "# Kitchen / GrLivArea # kitchen per living space\n",
    "# TotRmsAbvGrd / GrLivArea # rooms per living space\n",
    "# GarageCars / GarageArea # number of cars per garage area\n",
    "# (WoodDeckSF+OpenPorchSF+EnclosedPorch+3SsnPorch+ScreenPorch+PoolArea) / GrLivArea # ratio of entertaining area vs living space\n"
   ]
  },
  {
   "cell_type": "code",
   "execution_count": 329,
   "metadata": {
    "collapsed": false,
    "deletable": true,
    "editable": true
   },
   "outputs": [],
   "source": [
    "# Log saleprice\n",
    "df['saleprice'] = np.log(df['saleprice'])"
   ]
  },
  {
   "cell_type": "code",
   "execution_count": 330,
   "metadata": {
    "_execution_state": "idle",
    "_uuid": "ba804c52e1608bddc7bb1c2ed2607f305cb9cd32",
    "collapsed": false,
    "deletable": true,
    "editable": true
   },
   "outputs": [],
   "source": [
    "import sklearn.preprocessing as preprocessing\n",
    "import seaborn as sns"
   ]
  },
  {
   "cell_type": "code",
   "execution_count": 331,
   "metadata": {
    "_execution_state": "idle",
    "_uuid": "2b39c9f8516be0cacd006758d361721925d9076e",
    "collapsed": false,
    "deletable": true,
    "editable": true
   },
   "outputs": [
    {
     "name": "stderr",
     "output_type": "stream",
     "text": [
      "/Users/andrew/miniconda2/envs/keras/lib/python3.5/site-packages/category_encoders/ordinal.py:178: FutureWarning: reshape is deprecated and will raise in a subsequent release. Please use .values.reshape(...) instead\n",
      "  X[col] = X[col].astype(int).reshape(-1, )\n",
      "/Users/andrew/miniconda2/envs/keras/lib/python3.5/site-packages/category_encoders/ordinal.py:167: FutureWarning: reshape is deprecated and will raise in a subsequent release. Please use .values.reshape(...) instead\n",
      "  X[switch.get('col')] = X[switch.get('col')].astype(int).reshape(-1, )\n"
     ]
    },
    {
     "name": "stdout",
     "output_type": "stream",
     "text": [
      "Done\n"
     ]
    }
   ],
   "source": [
    "# Encode the categorical features as numbers\n",
    "import category_encoders as ce\n",
    "def number_encode_features(df):\n",
    "    result = df.copy()\n",
    "    encoders = {}\n",
    "    for column in result.columns:\n",
    "        #print(column)\n",
    "        #print(result.dtypes[column])\n",
    "        if (result.dtypes[column] == np.int64 or result.dtypes[column] == np.int32 or result.dtypes[column] == np.float64):\n",
    "            # impute missing values in column\n",
    "            print('Imputing...')\n",
    "            \n",
    "        if result.dtypes[column] == np.object:\n",
    "            encoders[column] = preprocessing.LabelEncoder()\n",
    "            # if there are NaN's in the categorical data fill it with 'None' which becomes another category\n",
    "            result[column] = encoders[column].fit_transform(result[column].fillna(value='None'))\n",
    "            #encoder = ce.BinaryEncoder(cols=bin_enc)\n",
    "    return result, encoders\n",
    "\n",
    "# METHOD 1: NUMERICAL ENCODING\n",
    "#encoded_data, _ = number_encode_features(df)\n",
    "\n",
    "# METHOD 2: BINARY ENCODING\n",
    "target_variable = 'saleprice'\n",
    "encoder = ce.BinaryEncoder(cols=bin_enc)\n",
    "encoder.fit(X=df.drop(target_variable, axis=1))\n",
    "encoded_data = encoder.transform(df.drop(target_variable, axis=1)) \n",
    "\n",
    "print('Done')"
   ]
  },
  {
   "cell_type": "code",
   "execution_count": 332,
   "metadata": {
    "collapsed": false
   },
   "outputs": [
    {
     "data": {
      "text/plain": [
       "array([2008, 2007, 2006, 2009, 2010])"
      ]
     },
     "execution_count": 332,
     "metadata": {},
     "output_type": "execute_result"
    }
   ],
   "source": [
    "df.yrsold.unique()"
   ]
  },
  {
   "cell_type": "code",
   "execution_count": 333,
   "metadata": {
    "collapsed": false
   },
   "outputs": [
    {
     "data": {
      "text/html": [
       "<div>\n",
       "<table border=\"1\" class=\"dataframe\">\n",
       "  <thead>\n",
       "    <tr style=\"text-align: right;\">\n",
       "      <th></th>\n",
       "      <th>mszoning_0</th>\n",
       "      <th>mszoning_1</th>\n",
       "      <th>mszoning_2</th>\n",
       "      <th>street_0</th>\n",
       "      <th>alley_0</th>\n",
       "      <th>alley_1</th>\n",
       "      <th>lotshape_0</th>\n",
       "      <th>lotshape_1</th>\n",
       "      <th>landcontour_0</th>\n",
       "      <th>landcontour_1</th>\n",
       "      <th>...</th>\n",
       "      <th>lowqualfinsf</th>\n",
       "      <th>grlivarea</th>\n",
       "      <th>garagearea</th>\n",
       "      <th>wooddecksf</th>\n",
       "      <th>openporchsf</th>\n",
       "      <th>enclosedporch</th>\n",
       "      <th>3ssnporch</th>\n",
       "      <th>screenporch</th>\n",
       "      <th>poolarea</th>\n",
       "      <th>miscval</th>\n",
       "    </tr>\n",
       "  </thead>\n",
       "  <tbody>\n",
       "    <tr>\n",
       "      <th>0</th>\n",
       "      <td>0</td>\n",
       "      <td>0</td>\n",
       "      <td>1</td>\n",
       "      <td>0</td>\n",
       "      <td>NaN</td>\n",
       "      <td>NaN</td>\n",
       "      <td>1</td>\n",
       "      <td>0</td>\n",
       "      <td>1</td>\n",
       "      <td>1</td>\n",
       "      <td>...</td>\n",
       "      <td>0</td>\n",
       "      <td>1710</td>\n",
       "      <td>548</td>\n",
       "      <td>0</td>\n",
       "      <td>61</td>\n",
       "      <td>0</td>\n",
       "      <td>0</td>\n",
       "      <td>0</td>\n",
       "      <td>0</td>\n",
       "      <td>0</td>\n",
       "    </tr>\n",
       "    <tr>\n",
       "      <th>1</th>\n",
       "      <td>0</td>\n",
       "      <td>0</td>\n",
       "      <td>1</td>\n",
       "      <td>0</td>\n",
       "      <td>NaN</td>\n",
       "      <td>NaN</td>\n",
       "      <td>1</td>\n",
       "      <td>0</td>\n",
       "      <td>1</td>\n",
       "      <td>1</td>\n",
       "      <td>...</td>\n",
       "      <td>0</td>\n",
       "      <td>1262</td>\n",
       "      <td>460</td>\n",
       "      <td>298</td>\n",
       "      <td>0</td>\n",
       "      <td>0</td>\n",
       "      <td>0</td>\n",
       "      <td>0</td>\n",
       "      <td>0</td>\n",
       "      <td>0</td>\n",
       "    </tr>\n",
       "    <tr>\n",
       "      <th>2</th>\n",
       "      <td>0</td>\n",
       "      <td>0</td>\n",
       "      <td>1</td>\n",
       "      <td>0</td>\n",
       "      <td>NaN</td>\n",
       "      <td>NaN</td>\n",
       "      <td>0</td>\n",
       "      <td>1</td>\n",
       "      <td>1</td>\n",
       "      <td>1</td>\n",
       "      <td>...</td>\n",
       "      <td>0</td>\n",
       "      <td>1786</td>\n",
       "      <td>608</td>\n",
       "      <td>0</td>\n",
       "      <td>42</td>\n",
       "      <td>0</td>\n",
       "      <td>0</td>\n",
       "      <td>0</td>\n",
       "      <td>0</td>\n",
       "      <td>0</td>\n",
       "    </tr>\n",
       "    <tr>\n",
       "      <th>3</th>\n",
       "      <td>0</td>\n",
       "      <td>0</td>\n",
       "      <td>1</td>\n",
       "      <td>0</td>\n",
       "      <td>NaN</td>\n",
       "      <td>NaN</td>\n",
       "      <td>0</td>\n",
       "      <td>1</td>\n",
       "      <td>1</td>\n",
       "      <td>1</td>\n",
       "      <td>...</td>\n",
       "      <td>0</td>\n",
       "      <td>1717</td>\n",
       "      <td>642</td>\n",
       "      <td>0</td>\n",
       "      <td>35</td>\n",
       "      <td>272</td>\n",
       "      <td>0</td>\n",
       "      <td>0</td>\n",
       "      <td>0</td>\n",
       "      <td>0</td>\n",
       "    </tr>\n",
       "    <tr>\n",
       "      <th>4</th>\n",
       "      <td>0</td>\n",
       "      <td>0</td>\n",
       "      <td>1</td>\n",
       "      <td>0</td>\n",
       "      <td>NaN</td>\n",
       "      <td>NaN</td>\n",
       "      <td>0</td>\n",
       "      <td>1</td>\n",
       "      <td>1</td>\n",
       "      <td>1</td>\n",
       "      <td>...</td>\n",
       "      <td>0</td>\n",
       "      <td>2198</td>\n",
       "      <td>836</td>\n",
       "      <td>192</td>\n",
       "      <td>84</td>\n",
       "      <td>0</td>\n",
       "      <td>0</td>\n",
       "      <td>0</td>\n",
       "      <td>0</td>\n",
       "      <td>0</td>\n",
       "    </tr>\n",
       "  </tbody>\n",
       "</table>\n",
       "<p>5 rows × 210 columns</p>\n",
       "</div>"
      ],
      "text/plain": [
       "   mszoning_0  mszoning_1  mszoning_2  street_0  alley_0  alley_1  lotshape_0  \\\n",
       "0           0           0           1         0      NaN      NaN           1   \n",
       "1           0           0           1         0      NaN      NaN           1   \n",
       "2           0           0           1         0      NaN      NaN           0   \n",
       "3           0           0           1         0      NaN      NaN           0   \n",
       "4           0           0           1         0      NaN      NaN           0   \n",
       "\n",
       "   lotshape_1  landcontour_0  landcontour_1   ...     lowqualfinsf  grlivarea  \\\n",
       "0           0              1              1   ...                0       1710   \n",
       "1           0              1              1   ...                0       1262   \n",
       "2           1              1              1   ...                0       1786   \n",
       "3           1              1              1   ...                0       1717   \n",
       "4           1              1              1   ...                0       2198   \n",
       "\n",
       "   garagearea  wooddecksf  openporchsf  enclosedporch  3ssnporch  screenporch  \\\n",
       "0         548           0           61              0          0            0   \n",
       "1         460         298            0              0          0            0   \n",
       "2         608           0           42              0          0            0   \n",
       "3         642           0           35            272          0            0   \n",
       "4         836         192           84              0          0            0   \n",
       "\n",
       "   poolarea  miscval  \n",
       "0         0        0  \n",
       "1         0        0  \n",
       "2         0        0  \n",
       "3         0        0  \n",
       "4         0        0  \n",
       "\n",
       "[5 rows x 210 columns]"
      ]
     },
     "execution_count": 333,
     "metadata": {},
     "output_type": "execute_result"
    }
   ],
   "source": [
    "encoded_data.head()"
   ]
  },
  {
   "cell_type": "code",
   "execution_count": 334,
   "metadata": {
    "_execution_state": "idle",
    "_uuid": "2a6aa67fe1034d732eaef425d96a5e3245044b82",
    "collapsed": false,
    "deletable": true,
    "editable": true
   },
   "outputs": [
    {
     "name": "stdout",
     "output_type": "stream",
     "text": [
      "Done\n"
     ]
    }
   ],
   "source": [
    "# Data is now in dataframe \"encoded_data\"\n",
    "\n",
    "y = df[target_variable].values\n",
    "X = encoded_data.fillna(0).as_matrix()\n",
    "\n",
    "# UPDATE THIS AN THE ONE ON THE SUBMISSION SET\n",
    "# min / max scaling should only occur on continuous variables\n",
    "# (\n",
    "#     # Drop target variable\n",
    "#     #encoded_data.drop(target_variable, axis=1)\n",
    "#     # Min-max-scaling (only needed for the DL model)\n",
    "#     encoded_data.pipe(lambda d: (d-d.min())/d.max()).fillna(0)\n",
    "#     .as_matrix()\n",
    "# )\n",
    "print('Done')"
   ]
  },
  {
   "cell_type": "code",
   "execution_count": 335,
   "metadata": {
    "_execution_state": "idle",
    "_uuid": "cdb748020a57a42c0b0126b153b91b7ab8bad78e",
    "collapsed": false,
    "deletable": true,
    "editable": true
   },
   "outputs": [
    {
     "name": "stdout",
     "output_type": "stream",
     "text": [
      "Done\n"
     ]
    }
   ],
   "source": [
    "from sklearn.metrics import mean_squared_error\n",
    "from sklearn.model_selection import train_test_split, cross_val_score\n",
    "\n",
    "test_size = 0.2\n",
    "\n",
    "X_train, X_test, y_train, y_test = train_test_split(\n",
    "    X, y, test_size=test_size, random_state=seed\n",
    ")\n",
    "print('Done')"
   ]
  },
  {
   "cell_type": "code",
   "execution_count": 336,
   "metadata": {
    "_execution_state": "idle",
    "_uuid": "90b02a0123d8f69b487b83e73824a226907a86f7",
    "collapsed": false,
    "deletable": true,
    "editable": true
   },
   "outputs": [
    {
     "name": "stdout",
     "output_type": "stream",
     "text": [
      "Done\n"
     ]
    }
   ],
   "source": [
    "from keras.models import Sequential\n",
    "from keras.callbacks import EarlyStopping, ModelCheckpoint, TensorBoard\n",
    "from keras.layers import Dense, Activation, Dropout\n",
    "from keras.layers.advanced_activations import  LeakyReLU  \n",
    "from keras import optimizers\n",
    "from keras import initializers\n",
    "from keras.layers.normalization import BatchNormalization\n",
    "print('Done')"
   ]
  },
  {
   "cell_type": "code",
   "execution_count": 337,
   "metadata": {
    "collapsed": true
   },
   "outputs": [],
   "source": [
    "epochs = 100\n",
    "learn_rate = 0.01\n",
    "batch_size= 256\n",
    "dropout = 0.5\n",
    "init_mean = 0.0\n",
    "init_stdev = 0.05"
   ]
  },
  {
   "cell_type": "code",
   "execution_count": 338,
   "metadata": {
    "collapsed": false
   },
   "outputs": [
    {
     "name": "stdout",
     "output_type": "stream",
     "text": [
      "Done\n"
     ]
    }
   ],
   "source": [
    "# setup callback so you can look at tensorboard later\n",
    "tbCallBack = TensorBoard(log_dir='./Graph'\n",
    "                         ,histogram_freq=0\n",
    "                         #,write_graph=True\n",
    "                         ,write_images=True\n",
    "                         #,write_grads=True\n",
    "                        )\n",
    "print('Done')"
   ]
  },
  {
   "cell_type": "markdown",
   "metadata": {},
   "source": [
    "## Build the graph and train network"
   ]
  },
  {
   "cell_type": "code",
   "execution_count": 339,
   "metadata": {
    "_execution_state": "busy",
    "_uuid": "a1e0a86af9150363c697c9a685c3d91359424b8a",
    "collapsed": false,
    "deletable": true,
    "editable": true
   },
   "outputs": [
    {
     "name": "stdout",
     "output_type": "stream",
     "text": [
      "Starting training....\n",
      "Epoch 00000: val_loss improved from inf to 818.99707, saving model to best.model\n",
      "Epoch 00001: val_loss improved from 818.99707 to 714.60065, saving model to best.model\n",
      "Epoch 00002: val_loss did not improve\n",
      "Epoch 00003: val_loss improved from 714.60065 to 698.59039, saving model to best.model\n",
      "Epoch 00004: val_loss did not improve\n",
      "Epoch 00005: val_loss did not improve\n",
      "Epoch 00006: val_loss improved from 698.59039 to 60.59599, saving model to best.model\n",
      "Epoch 00007: val_loss did not improve\n",
      "Epoch 00008: val_loss did not improve\n",
      "Epoch 00009: val_loss improved from 60.59599 to 13.85125, saving model to best.model\n",
      "Epoch 00010: val_loss did not improve\n",
      "Epoch 00011: val_loss did not improve\n",
      "Epoch 00012: val_loss did not improve\n",
      "Epoch 00013: val_loss did not improve\n",
      "Epoch 00014: val_loss did not improve\n",
      "Epoch 00015: val_loss did not improve\n",
      "Epoch 00016: val_loss improved from 13.85125 to 9.99376, saving model to best.model\n",
      "Epoch 00017: val_loss improved from 9.99376 to 8.34822, saving model to best.model\n",
      "Epoch 00018: val_loss did not improve\n",
      "Epoch 00019: val_loss did not improve\n",
      "Epoch 00020: val_loss did not improve\n",
      "Epoch 00021: val_loss did not improve\n",
      "Epoch 00022: val_loss did not improve\n",
      "Epoch 00023: val_loss did not improve\n",
      "Epoch 00024: val_loss did not improve\n",
      "Epoch 00025: val_loss improved from 8.34822 to 6.48878, saving model to best.model\n",
      "Epoch 00026: val_loss did not improve\n",
      "Epoch 00027: val_loss improved from 6.48878 to 3.13679, saving model to best.model\n",
      "Epoch 00028: val_loss improved from 3.13679 to 2.72458, saving model to best.model\n",
      "Epoch 00029: val_loss did not improve\n",
      "Epoch 00030: val_loss did not improve\n",
      "Epoch 00031: val_loss improved from 2.72458 to 2.69685, saving model to best.model\n",
      "Epoch 00032: val_loss did not improve\n",
      "Epoch 00033: val_loss did not improve\n",
      "Epoch 00034: val_loss did not improve\n",
      "Epoch 00035: val_loss improved from 2.69685 to 2.12343, saving model to best.model\n",
      "Epoch 00036: val_loss did not improve\n",
      "Epoch 00037: val_loss did not improve\n",
      "Epoch 00038: val_loss improved from 2.12343 to 1.72463, saving model to best.model\n",
      "Epoch 00039: val_loss did not improve\n",
      "Epoch 00040: val_loss did not improve\n",
      "Epoch 00041: val_loss improved from 1.72463 to 1.60602, saving model to best.model\n",
      "Epoch 00042: val_loss did not improve\n",
      "Epoch 00043: val_loss improved from 1.60602 to 1.46306, saving model to best.model\n",
      "Epoch 00044: val_loss improved from 1.46306 to 0.96940, saving model to best.model\n",
      "Epoch 00045: val_loss did not improve\n",
      "Epoch 00046: val_loss did not improve\n",
      "Epoch 00047: val_loss did not improve\n",
      "Epoch 00048: val_loss did not improve\n",
      "Epoch 00049: val_loss improved from 0.96940 to 0.89853, saving model to best.model\n",
      "Epoch 00050: val_loss did not improve\n",
      "Epoch 00051: val_loss did not improve\n",
      "Epoch 00052: val_loss did not improve\n",
      "Epoch 00053: val_loss improved from 0.89853 to 0.42384, saving model to best.model\n",
      "Epoch 00054: val_loss did not improve\n",
      "Epoch 00055: val_loss did not improve\n",
      "Epoch 00056: val_loss did not improve\n",
      "Epoch 00057: val_loss did not improve\n",
      "Epoch 00058: val_loss did not improve\n",
      "Epoch 00059: val_loss did not improve\n",
      "Epoch 00060: val_loss improved from 0.42384 to 0.37201, saving model to best.model\n",
      "Epoch 00061: val_loss improved from 0.37201 to 0.30273, saving model to best.model\n",
      "Epoch 00062: val_loss did not improve\n",
      "Epoch 00063: val_loss did not improve\n",
      "Epoch 00064: val_loss did not improve\n",
      "Epoch 00065: val_loss did not improve\n",
      "Epoch 00066: val_loss did not improve\n",
      "Epoch 00067: val_loss did not improve\n",
      "Epoch 00068: val_loss improved from 0.30273 to 0.29300, saving model to best.model\n",
      "Epoch 00069: val_loss improved from 0.29300 to 0.24242, saving model to best.model\n",
      "Epoch 00070: val_loss did not improve\n",
      "Epoch 00071: val_loss did not improve\n",
      "Epoch 00072: val_loss did not improve\n",
      "Epoch 00073: val_loss improved from 0.24242 to 0.18375, saving model to best.model\n",
      "Epoch 00074: val_loss did not improve\n",
      "Epoch 00075: val_loss did not improve\n",
      "Epoch 00076: val_loss did not improve\n",
      "Epoch 00077: val_loss did not improve\n",
      "Epoch 00078: val_loss did not improve\n",
      "Epoch 00079: val_loss improved from 0.18375 to 0.15274, saving model to best.model\n",
      "Epoch 00080: val_loss did not improve\n",
      "Epoch 00081: val_loss improved from 0.15274 to 0.12473, saving model to best.model\n",
      "Epoch 00082: val_loss did not improve\n",
      "Epoch 00083: val_loss did not improve\n",
      "Epoch 00084: val_loss improved from 0.12473 to 0.08061, saving model to best.model\n",
      "Epoch 00085: val_loss did not improve\n",
      "Epoch 00086: val_loss did not improve\n",
      "Epoch 00087: val_loss did not improve\n",
      "Epoch 00088: val_loss did not improve\n",
      "Epoch 00089: val_loss did not improve\n",
      "Epoch 00090: val_loss did not improve\n",
      "Epoch 00091: val_loss improved from 0.08061 to 0.07527, saving model to best.model\n",
      "Epoch 00092: val_loss did not improve\n",
      "Epoch 00093: val_loss did not improve\n",
      "Epoch 00094: val_loss did not improve\n",
      "Epoch 00095: val_loss did not improve\n",
      "Epoch 00096: val_loss did not improve\n",
      "Epoch 00097: val_loss improved from 0.07527 to 0.06720, saving model to best.model\n",
      "Epoch 00098: val_loss did not improve\n",
      "Epoch 00099: val_loss did not improve\n",
      "Done\n"
     ]
    }
   ],
   "source": [
    "m = Sequential()\n",
    "m.add(Dense(512, input_shape=(X.shape[1],)\n",
    "            ,kernel_initializer=initializers.TruncatedNormal(mean=init_mean\n",
    "                                                             ,stddev=init_stdev\n",
    "                                                             ,seed=seed)\n",
    "            ,bias_initializer='zeros'))\n",
    "m.add(BatchNormalization())\n",
    "m.add(LeakyReLU())  # helps to stop disappearing gradient\n",
    "m.add(Dropout(dropout))\n",
    "\n",
    "m.add(Dense(512\n",
    "            ,kernel_initializer=initializers.TruncatedNormal(mean=init_mean\n",
    "                                                             ,stddev=init_stdev\n",
    "                                                             ,seed=seed)\n",
    "            ,bias_initializer='zeros'))\n",
    "m.add(BatchNormalization())\n",
    "m.add(LeakyReLU())\n",
    "m.add(Dropout(dropout))\n",
    "\n",
    "m.add(Dense(128\n",
    "             ,kernel_initializer=initializers.TruncatedNormal(mean=init_mean\n",
    "                                                             ,stddev=init_stdev\n",
    "                                                             ,seed=seed)\n",
    "            ,bias_initializer='zeros'))\n",
    "m.add(BatchNormalization())\n",
    "m.add(LeakyReLU())\n",
    "m.add(Dropout(dropout))\n",
    "\n",
    "m.add(Dense(1, activation=None))  # linear activation for regression\n",
    "\n",
    "m.compile(\n",
    "    optimizer=optimizers.Adam(lr=learn_rate),\n",
    "    loss='mean_squared_error',\n",
    "    #metrics=[log_rmse]\n",
    ")\n",
    "\n",
    "print('Starting training....')\n",
    "\n",
    "m.fit(\n",
    "    # Feature matrix\n",
    "    X_train,\n",
    "    # Target class one-hot-encoded\n",
    "    y_train,\n",
    "    # Iterations to be run if not stopped by EarlyStopping\n",
    "    epochs=epochs,\n",
    "    callbacks=[\n",
    "        # Stop iterations when validation loss has not improved\n",
    "        EarlyStopping(monitor='val_loss', patience=25),\n",
    "        # Nice for keeping the last model before overfitting occurs\n",
    "        ModelCheckpoint(\n",
    "            'best.model',\n",
    "            monitor='val_loss',\n",
    "            save_best_only=True,\n",
    "            verbose=1\n",
    "        ),\n",
    "        # Tensorboards\n",
    "        #tbCallBack\n",
    "    ],\n",
    "    verbose=0,\n",
    "    validation_split=0.1,\n",
    "    batch_size=batch_size,\n",
    ")\n",
    "print('Done')\n"
   ]
  },
  {
   "cell_type": "markdown",
   "metadata": {},
   "source": [
    "## Test performance RMSE?"
   ]
  },
  {
   "cell_type": "code",
   "execution_count": 346,
   "metadata": {
    "collapsed": false
   },
   "outputs": [],
   "source": [
    "y_test_preds = m.predict(X_test) \n",
    "\n",
    "r = np.sqrt( np.mean((y_test_preds - y_test)**2) ) \n",
    "print(r)"
   ]
  },
  {
   "cell_type": "code",
   "execution_count": 238,
   "metadata": {
    "collapsed": true
   },
   "outputs": [],
   "source": [
    "# RUN ME FOR RMSE"
   ]
  },
  {
   "cell_type": "markdown",
   "metadata": {},
   "source": [
    "## Look at the correlation between REAL and PREDICTED"
   ]
  },
  {
   "cell_type": "code",
   "execution_count": 376,
   "metadata": {
    "collapsed": false
   },
   "outputs": [
    {
     "name": "stdout",
     "output_type": "stream",
     "text": [
      "(146,) (146,)\n"
     ]
    },
    {
     "name": "stderr",
     "output_type": "stream",
     "text": [
      "/Users/andrew/miniconda2/envs/keras/lib/python3.5/site-packages/matplotlib/figure.py:402: UserWarning: matplotlib is currently using a non-GUI backend, so cannot show the figure\n",
      "  \"matplotlib is currently using a non-GUI backend, \"\n"
     ]
    },
    {
     "data": {
      "image/png": "[encoded data removed]",
      "text/plain": [
       "<matplotlib.figure.Figure at 0x13ca2d710>"
      ]
     },
     "metadata": {},
     "output_type": "display_data"
    }
   ],
   "source": [
    "#plt.scatter( y_test_preds, y_test)\n",
    "\n",
    "y_real = y_test\n",
    "y_pred = y_test_preds.reshape(146,)\n",
    "\n",
    "print(y_real.shape, y_pred.shape )\n",
    "\n",
    "fig, ax = plt.subplots()\n",
    "fit = np.polyfit(y_pred, y_real, deg=1)\n",
    "ax.plot(y_pred, fit[0] * y_pred + fit[1], color='red')\n",
    "ax.scatter(y_pred, y_real)\n",
    "\n",
    "fig.show()"
   ]
  },
  {
   "cell_type": "markdown",
   "metadata": {},
   "source": [
    "## TensorBoard\n",
    "Run this to see the tensorboard output\n",
    "\n",
    "bash$ tensorboard --logdir ./Graph \n",
    "\n",
    "Then navigate to http://192.168.0.5:6006 in your browser."
   ]
  },
  {
   "cell_type": "markdown",
   "metadata": {
    "deletable": true,
    "editable": true
   },
   "source": [
    "### Now for the Submission set"
   ]
  },
  {
   "cell_type": "code",
   "execution_count": 341,
   "metadata": {
    "collapsed": false,
    "deletable": true,
    "editable": true
   },
   "outputs": [
    {
     "name": "stdout",
     "output_type": "stream",
     "text": [
      "Done\n"
     ]
    }
   ],
   "source": [
    "df = (\n",
    "    pd.read_csv('input/test.csv') # change this to run on kaggle\n",
    "    #pd.read_csv('../input/train.csv')\n",
    "\n",
    "    # Rename columns to lowercase and underscores\n",
    "    .pipe(lambda d: d.rename(columns={\n",
    "        k: v for k, v in zip(\n",
    "            d.columns,\n",
    "            [c.lower().replace(' ', '_') for c in d.columns]\n",
    "        )\n",
    "    }))\n",
    "    # Switch categorical classes to integers\n",
    "    #.assign(**{target_variable: lambda r: r[target_variable].astype('category').cat.codes})\n",
    ")\n",
    "print('Done')"
   ]
  },
  {
   "cell_type": "code",
   "execution_count": 342,
   "metadata": {
    "collapsed": false,
    "deletable": true,
    "editable": true
   },
   "outputs": [
    {
     "name": "stderr",
     "output_type": "stream",
     "text": [
      "/Users/andrew/miniconda2/envs/keras/lib/python3.5/site-packages/category_encoders/ordinal.py:167: FutureWarning: reshape is deprecated and will raise in a subsequent release. Please use .values.reshape(...) instead\n",
      "  X[switch.get('col')] = X[switch.get('col')].astype(int).reshape(-1, )\n"
     ]
    },
    {
     "name": "stdout",
     "output_type": "stream",
     "text": [
      "Done\n"
     ]
    }
   ],
   "source": [
    "# make the dummy columns for categoricals\n",
    "#encoded_data, _ = number_encode_features(df)\n",
    "\n",
    "encoded_data = encoder.transform(X=df)\n",
    "\n",
    "X_sub = encoded_data.fillna(0).as_matrix()\n",
    "\n",
    "# RESTRICT TO ONLY ON CONTINUOUS VARS\n",
    "# (# Min-max-scaling (only needed for the DL model)\n",
    "#     encoded_data.pipe(lambda d: (d-d.min())/d.max()).fillna(0)\n",
    "#     .as_matrix()\n",
    "# )\n",
    "\n",
    "print('Done')"
   ]
  },
  {
   "cell_type": "code",
   "execution_count": 345,
   "metadata": {
    "collapsed": true
   },
   "outputs": [],
   "source": [
    "# Export dataframes to csv for inspection\n",
    "pd.DataFrame(X_train).to_csv('X_train.csv', index = False)\n",
    "\n",
    "pd.DataFrame(X_sub).to_csv('X_sub.csv', index = False)"
   ]
  },
  {
   "cell_type": "code",
   "execution_count": 343,
   "metadata": {
    "_execution_state": "idle",
    "_uuid": "d3bcb2c810a18d62374de514e05fbd90a80e894e",
    "collapsed": false,
    "deletable": true,
    "editable": true,
    "scrolled": true
   },
   "outputs": [
    {
     "name": "stdout",
     "output_type": "stream",
     "text": [
      "Here is a sample...\n",
      "     Id      SalePrice\n",
      "0  1461  168711.734375\n",
      "1  1462   89831.171875\n",
      "2  1463  198339.937500\n",
      "3  1464  202113.781250\n",
      "4  1465  217669.125000\n",
      "5  1466  181442.328125\n",
      "6  1467  210396.500000\n",
      "7  1468  190791.859375\n",
      "8  1469  203930.671875\n",
      "9  1470  147407.781250\n",
      "Done\n"
     ]
    }
   ],
   "source": [
    "## Save to CSV with Image name and results\n",
    "# Run the model\n",
    "y_sub_preds = np.exp( m.predict(X_sub) ) # bring them back to sales prices using exponential\n",
    "pred = pd.DataFrame(data=y_sub_preds) \n",
    "\n",
    "print(\"Here is a sample...\")\n",
    "\n",
    "result = pd.concat([df['id'], pred], axis=1)\n",
    "result.columns = ['Id','SalePrice'] \n",
    "print(result[0:10])\n",
    "\n",
    "# Header: [image ALB BET DOL LAG NoF OTHER   SHARK   YFT]\n",
    "result.to_csv('submission.csv', index = False)\n",
    "\n",
    "print('Done')"
   ]
  },
  {
   "cell_type": "code",
   "execution_count": null,
   "metadata": {
    "_execution_state": "idle",
    "_uuid": "d423ee090866fa833500dc505792a781b1f11dcf",
    "collapsed": false,
    "deletable": true,
    "editable": true
   },
   "outputs": [],
   "source": []
  },
  {
   "cell_type": "code",
   "execution_count": null,
   "metadata": {
    "_execution_state": "idle",
    "_uuid": "a570fcb5b113c65df0726b8566395b95c19e544f",
    "collapsed": false,
    "deletable": true,
    "editable": true
   },
   "outputs": [],
   "source": []
  }
 ],
 "metadata": {
  "kernelspec": {
   "display_name": "Python 3",
   "language": "python",
   "name": "python3"
  },
  "language_info": {
   "codemirror_mode": {
    "name": "ipython",
    "version": 3
   },
   "file_extension": ".py",
   "mimetype": "text/x-python",
   "name": "python",
   "nbconvert_exporter": "python",
   "pygments_lexer": "ipython3",
   "version": "3.5.3"
  }
 },
 "nbformat": 4,
 "nbformat_minor": 0
}
